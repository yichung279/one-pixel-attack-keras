{
 "cells": [
  {
   "cell_type": "markdown",
   "metadata": {},
   "source": [
    "# Introduction\n",
    "One-Pixel-Attack 透過更改圖片中一個相素，改變模型的預測結果。而且本文的方法是黑盒攻擊，唯一需要的資訊是模型的機率預測。運用差分進化演算法(differential evolution)，我們可以找到一個特別的點以及數值，模型預測失準，甚至誤導模型該圖片為特定目標。\n",
    "\n",
    "以一般人來說，單一一個相素難以影響一張圖片的識別，若是大一點的圖片甚是難以察覺。而 One-Pixel-Attack 可以透過如此少的擾動，讓深度模型失效。\n",
    "![](images/pred2.png \"All it takes is one pixel\")\n",
    "\n",
    "| model              | parameters | test accuracy | pixels | attack success (untargeted)   | attack success (targeted) |\n",
    "| ------------------ | ---------- | ------------- | ------ | ----------------------------- | ------------------------- | \n",
    "| LeNet              | 62K        | 74.9%         | 1      | 63.0%                         | 34.4%                     |\n",
    "|                    |            |               | 3      | 92.0%                         | 64.4%                     |\n",
    "|                    |            |               | 5      | 93.0%                         | 64.4%                     |\n",
    "|                    |            |               |        |                               |                           |\n",
    "| Pure CNN           | 1.4M       | 88.8%         | 1      | 13.0%                         | 6.67%                     |\n",
    "|                    |            |               | 3      | 58.0%                         | 13.3%                     |\n",
    "|                    |            |               | 5      | 63.0%                         | 18.9%                     |\n",
    "|                    |            |               |        |                               |                           |\n",
    "| Network in Network | 970K       | 90.8%         | 1      | 34.0%                         | 10.0%                     |\n",
    "|                    |            |               | 3      | 73.0%                         | 24.4%                     |\n",
    "|                    |            |               | 5      | 73.0%                         | 31.1%                     |\n",
    "|                    |            |               |        |                               |                           |\n",
    "| ResNet             | 470K       | 92.3%         | 1      | 34.0%                         | 14.4%                     |\n",
    "|                    |            |               | 3      | 79.0%                         | 21.1%                     |\n",
    "|                    |            |               | 5      | 79.0%                         | 22.2%                     |\n",
    "|                    |            |               |        |                               |                           |\n",
    "| DenseNet           | 850K       | 94.7%         | 1      | 31.0%                         | 4.44%                     |\n",
    "|                    |            |               | 3      | 71.0%                         | 23.3%                     |\n",
    "|                    |            |               | 5      | 69.0%                         | 28.9%                     |\n",
    "|                    |            |               |        |                               |                           |\n",
    "| Wide ResNet        | 11M        | 95.3%         | 1      | 19.0%                         | 1.11%                     |\n",
    "|                    |            |               | 3      | 58.0%                         | 18.9%                     |\n",
    "|                    |            |               | 5      | 65.0%                         | 22.2%                     |\n",
    "|                    |            |               |        |                               |                           |\n",
    "| CapsNet            | 12M        | 79.8%         | 1      | 19.0%                         | 0.00%                     |\n",
    "|                    |            |               | 3      | 39.0%                         | 4.44%                     |\n",
    "|                    |            |               | 5      | 36.0%                         | 4.44%                     |"
   ]
  },
  {
   "cell_type": "code",
   "execution_count": 12,
   "metadata": {},
   "outputs": [],
   "source": [
    "# Python Libraries\n",
    "%matplotlib inline\n",
    "import pickle\n",
    "import numpy as np\n",
    "import pandas as pd\n",
    "import matplotlib\n",
    "from keras.datasets import cifar10\n",
    "from keras import backend as K\n",
    "\n",
    "# Custom Networks\n",
    "from networks.lenet import LeNet\n",
    "from networks.resnet import ResNet\n",
    "\n",
    "# Helper functions\n",
    "import helper\n",
    "from attack import PixelAttacker"
   ]
  },
  {
   "cell_type": "code",
   "execution_count": 2,
   "metadata": {},
   "outputs": [],
   "source": [
    "def count_success_rate(results_table, pixel_count=1):\n",
    "    df = results_table[results_table['pixels'] == pixel_count]\n",
    "    return df[df['success'] == True].shape[0] / df.shape[0]"
   ]
  },
  {
   "cell_type": "code",
   "execution_count": 3,
   "metadata": {},
   "outputs": [],
   "source": [
    "def perturb_image(xs, img):\n",
    "    # If this function is passed just one perturbation vector,\n",
    "    # pack it in a list to keep the computation the same\n",
    "    if xs.ndim < 2:\n",
    "        xs = np.array([xs])\n",
    "    \n",
    "    # Copy the image n == len(xs) times so that we can \n",
    "    # create n new perturbed images\n",
    "    tile = [len(xs)] + [1]*(xs.ndim+1)\n",
    "    imgs = np.tile(img, tile)\n",
    "    \n",
    "    # Make sure to floor the members of xs as int types\n",
    "    xs = xs.astype(int)\n",
    "    \n",
    "    for x,img in zip(xs, imgs):\n",
    "        # Split x into an array of 5-tuples (perturbation pixels)\n",
    "        # i.e., [[x,y,r,g,b], ...]\n",
    "        pixels = np.split(x, len(x) // 5)\n",
    "        for pixel in pixels:\n",
    "            # At each pixel's x,y position, assign its rgb value\n",
    "            x_pos, y_pos, *rgb = pixel\n",
    "            img[x_pos, y_pos] = rgb\n",
    "    \n",
    "    return imgs"
   ]
  },
  {
   "cell_type": "code",
   "execution_count": 4,
   "metadata": {},
   "outputs": [],
   "source": [
    "def rebuild_attack(results, round_count, pixel_count, plot=False):\n",
    "    # Get img_id and table_idx of specific round_count and pixel_count\n",
    "    img_id = results['image'][round_count]\n",
    "    results = results[results['image'] == img_id]\n",
    "    idx = results[results['pixels'] == pixel_count].index[0]\n",
    "\n",
    "    # Get attack pixels\n",
    "    pixels = results['perturbation'][idx] # [[x, y, r, g, b], ...]\n",
    "    \n",
    "    # Build attacked_img\n",
    "    attacked_img = perturb_image(pixels, test[0][img_id])[0]\n",
    "    \n",
    "    if plot:\n",
    "        helper.plot_image(attacked_img)\n",
    "    \n",
    "    return attacked_img, results['image'][idx]"
   ]
  },
  {
   "cell_type": "markdown",
   "metadata": {},
   "source": [
    "# Pretained model\n",
    "這次報告以cifar10作為資料集，會在cifar10上訓練 LeNet 以及 ResNet，再拿出測試資料集針對兩種網路進行攻擊。"
   ]
  },
  {
   "cell_type": "code",
   "execution_count": 5,
   "metadata": {},
   "outputs": [
    {
     "name": "stdout",
     "output_type": "stream",
     "text": [
      "WARNING:tensorflow:From /home/yichung/.venv/one-pixel-attack-keras/lib/python3.6/site-packages/keras/backend/tensorflow_backend.py:4070: The name tf.nn.max_pool is deprecated. Please use tf.nn.max_pool2d instead.\n",
      "\n",
      "WARNING:tensorflow:From /home/yichung/.venv/one-pixel-attack-keras/lib/python3.6/site-packages/keras/backend/tensorflow_backend.py:422: The name tf.global_variables is deprecated. Please use tf.compat.v1.global_variables instead.\n",
      "\n",
      "Successfully loaded lenet\n",
      "Successfully loaded resnet\n",
      "\n",
      "\n",
      "\n",
      "以Lenet預測圖片\n"
     ]
    },
    {
     "data": {
      "image/png": "[encoded data removed]",
      "text/plain": [
       "<Figure size 432x288 with 1 Axes>"
      ]
     },
     "metadata": {},
     "output_type": "display_data"
    },
    {
     "name": "stdout",
     "output_type": "stream",
     "text": [
      "True: airplane\n",
      "Predicted: airplane\n",
      "\n",
      "\n",
      "以Resnet預測圖片\n"
     ]
    },
    {
     "data": {
      "image/png": "[encoded data removed]",
      "text/plain": [
       "<Figure size 432x288 with 1 Axes>"
      ]
     },
     "metadata": {},
     "output_type": "display_data"
    },
    {
     "name": "stdout",
     "output_type": "stream",
     "text": [
      "True: airplane\n",
      "Predicted: airplane\n"
     ]
    }
   ],
   "source": [
    "# Load data from cifar10\n",
    "_, test = cifar10.load_data()\n",
    "class_names = ['airplane', 'automobile', 'bird', 'cat', 'deer', 'dog', 'frog', 'horse', 'ship', 'truck']\n",
    "\n",
    "# Load pretrained model\n",
    "models =  [LeNet(load_weights=True), ResNet(load_weights=True)]\n",
    "\n",
    "# Show results of image predictions from different models\n",
    "img_id = 3 # Image index in the test set\n",
    "model = models[0]\n",
    "print(f'\\n\\n')\n",
    "print(f'以Lenet預測圖片')\n",
    "prob = model.predict_one(test[0][img_id])\n",
    "helper.plot_image(test[0][img_id])\n",
    "print(f'True: {class_names[test[1][img_id][0]]}')\n",
    "print(f'Predicted: {class_names[np.argmax(prob)]}')\n",
    "\n",
    "model = models[1]\n",
    "print(f'\\n')\n",
    "print(f'以Resnet預測圖片')\n",
    "prob = model.predict_one(test[0][img_id])\n",
    "helper.plot_image(test[0][img_id])\n",
    "print(f'True: {class_names[test[1][img_id][0]]}')\n",
    "print(f'Predicted: {class_names[np.argmax(prob)]}')"
   ]
  },
  {
   "cell_type": "markdown",
   "metadata": {},
   "source": [
    "# Attack Results\n",
    "我們事先針對 ResNet 進行 500 回攻擊，每次隨機從測試資料集中挑選一針照片，進行 one-pixel, 3-pixels, 5-pixels 攻擊，分為 targeted attack 以及 untargeted attack，指定/不指定誤導的目標，並記錄圖片資訊，預測結果，攻擊結果。\n"
   ]
  },
  {
   "cell_type": "code",
   "execution_count": 6,
   "metadata": {},
   "outputs": [
    {
     "data": {
      "text/html": [
       "<div>\n",
       "<style scoped>\n",
       "    .dataframe tbody tr th:only-of-type {\n",
       "        vertical-align: middle;\n",
       "    }\n",
       "\n",
       "    .dataframe tbody tr th {\n",
       "        vertical-align: top;\n",
       "    }\n",
       "\n",
       "    .dataframe thead th {\n",
       "        text-align: right;\n",
       "    }\n",
       "</style>\n",
       "<table border=\"1\" class=\"dataframe\">\n",
       "  <thead>\n",
       "    <tr style=\"text-align: right;\">\n",
       "      <th></th>\n",
       "      <th>model</th>\n",
       "      <th>pixels</th>\n",
       "      <th>image</th>\n",
       "      <th>true</th>\n",
       "      <th>predicted</th>\n",
       "      <th>success</th>\n",
       "      <th>cdiff</th>\n",
       "      <th>prior_probs</th>\n",
       "      <th>predicted_probs</th>\n",
       "      <th>perturbation</th>\n",
       "    </tr>\n",
       "  </thead>\n",
       "  <tbody>\n",
       "    <tr>\n",
       "      <th>10</th>\n",
       "      <td>resnet</td>\n",
       "      <td>1</td>\n",
       "      <td>6707</td>\n",
       "      <td>2</td>\n",
       "      <td>3</td>\n",
       "      <td>True</td>\n",
       "      <td>0.731244</td>\n",
       "      <td>[4.933282e-08, 3.3220373e-09, 0.99992204, 1.74...</td>\n",
       "      <td>[2.5830963e-05, 4.2864357e-07, 0.2686777, 0.72...</td>\n",
       "      <td>[6.6275221416225225, 20.568022556641953, 0.216...</td>\n",
       "    </tr>\n",
       "    <tr>\n",
       "      <th>510</th>\n",
       "      <td>resnet</td>\n",
       "      <td>3</td>\n",
       "      <td>6707</td>\n",
       "      <td>2</td>\n",
       "      <td>3</td>\n",
       "      <td>True</td>\n",
       "      <td>0.999631</td>\n",
       "      <td>[4.933282e-08, 3.3220373e-09, 0.99992204, 1.74...</td>\n",
       "      <td>[0.00011893081, 1.4406618e-07, 0.0002908279, 0...</td>\n",
       "      <td>[20.78556392857645, 21.841062913198154, 21.723...</td>\n",
       "    </tr>\n",
       "    <tr>\n",
       "      <th>1010</th>\n",
       "      <td>resnet</td>\n",
       "      <td>5</td>\n",
       "      <td>6707</td>\n",
       "      <td>2</td>\n",
       "      <td>3</td>\n",
       "      <td>True</td>\n",
       "      <td>0.999904</td>\n",
       "      <td>[4.933282e-08, 3.3220373e-09, 0.99992204, 1.74...</td>\n",
       "      <td>[6.137822e-06, 3.54626e-08, 1.7930786e-05, 0.9...</td>\n",
       "      <td>[7.735506971931496, 14.600379267319134, 27.040...</td>\n",
       "    </tr>\n",
       "  </tbody>\n",
       "</table>\n",
       "</div>"
      ],
      "text/plain": [
       "       model  pixels  image  true  predicted  success     cdiff  \\\n",
       "10    resnet       1   6707     2          3     True  0.731244   \n",
       "510   resnet       3   6707     2          3     True  0.999631   \n",
       "1010  resnet       5   6707     2          3     True  0.999904   \n",
       "\n",
       "                                            prior_probs  \\\n",
       "10    [4.933282e-08, 3.3220373e-09, 0.99992204, 1.74...   \n",
       "510   [4.933282e-08, 3.3220373e-09, 0.99992204, 1.74...   \n",
       "1010  [4.933282e-08, 3.3220373e-09, 0.99992204, 1.74...   \n",
       "\n",
       "                                        predicted_probs  \\\n",
       "10    [2.5830963e-05, 4.2864357e-07, 0.2686777, 0.72...   \n",
       "510   [0.00011893081, 1.4406618e-07, 0.0002908279, 0...   \n",
       "1010  [6.137822e-06, 3.54626e-08, 1.7930786e-05, 0.9...   \n",
       "\n",
       "                                           perturbation  \n",
       "10    [6.6275221416225225, 20.568022556641953, 0.216...  \n",
       "510   [20.78556392857645, 21.841062913198154, 21.723...  \n",
       "1010  [7.735506971931496, 14.600379267319134, 27.040...  "
      ]
     },
     "execution_count": 6,
     "metadata": {},
     "output_type": "execute_result"
    }
   ],
   "source": [
    "# Load result of previous attack\n",
    "cols = ['model', 'pixels', 'image', 'true', 'predicted', 'success', 'cdiff', 'prior_probs', 'predicted_probs', 'perturbation']\n",
    "with open('networks/results/results.pkl', 'rb') as file:\n",
    "    results =pickle.load(file)\n",
    "    untargeted_results = pd.DataFrame(results, columns=cols)\n",
    "    \n",
    "# Show data of specific rounds\n",
    "rounds = 10\n",
    "img_id = untargeted_results['image'][rounds]\n",
    "results = untargeted_results[untargeted_results['image'] == img_id]\n",
    "results"
   ]
  },
  {
   "cell_type": "code",
   "execution_count": 7,
   "metadata": {},
   "outputs": [],
   "source": [
    "# Load result of previous attack\n",
    "with open('networks/results/targeted_results.pkl', 'rb') as file:\n",
    "    results =pickle.load(file)\n",
    "    targeted_results = pd.DataFrame(results, columns=cols)\n",
    "    \n",
    "# Show data of specific rounds\n",
    "rounds = 10\n",
    "img_id = targeted_results['image'][rounds]\n",
    "results = targeted_results[targeted_results['image'] == img_id]\n",
    "#results"
   ]
  },
  {
   "cell_type": "code",
   "execution_count": 8,
   "metadata": {},
   "outputs": [
    {
     "name": "stdout",
     "output_type": "stream",
     "text": [
      "-----------Targeted Results---------------\n",
      "\n",
      "1px  Attack Success Rate on ResNet: 0.102%\n",
      "3pxs Attack Success Rate on ResNet: 0.243%\n",
      "5pxs Attack Success Rate on ResNet: 0.275%\n",
      "\n",
      "\n",
      "-----------Untargeted Results--------------\n",
      "\n",
      "1px  Attack Success Rate on ResNet: 0.308%\n",
      "3pxs Attack Success Rate on ResNet: 0.738%\n",
      "5pxs Attack Success Rate on ResNet: 0.762%\n"
     ]
    }
   ],
   "source": [
    "print('-----------Targeted Results---------------\\n')\n",
    "print(f'1px  Attack Success Rate on ResNet: {count_success_rate(targeted_results, 1):.3f}%')\n",
    "print(f'3pxs Attack Success Rate on ResNet: {count_success_rate(targeted_results, 3):.3f}%')\n",
    "print(f'5pxs Attack Success Rate on ResNet: {count_success_rate(targeted_results, 5):.3f}%')\n",
    "print('\\n')\n",
    "print('-----------Untargeted Results--------------\\n')\n",
    "print(f'1px  Attack Success Rate on ResNet: {count_success_rate(untargeted_results, 1):.3f}%')\n",
    "print(f'3pxs Attack Success Rate on ResNet: {count_success_rate(untargeted_results, 3):.3f}%')\n",
    "print(f'5pxs Attack Success Rate on ResNet: {count_success_rate(untargeted_results, 5):.3f}%')"
   ]
  },
  {
   "cell_type": "code",
   "execution_count": 9,
   "metadata": {},
   "outputs": [
    {
     "data": {
      "image/png": "[encoded data removed]",
      "text/plain": [
       "<Figure size 432x288 with 1 Axes>"
      ]
     },
     "metadata": {},
     "output_type": "display_data"
    },
    {
     "name": "stdout",
     "output_type": "stream",
     "text": [
      "True: bird\n",
      "Predicted: cat\n"
     ]
    },
    {
     "data": {
      "image/png": "[encoded data removed]",
      "text/plain": [
       "<Figure size 432x288 with 1 Axes>"
      ]
     },
     "metadata": {},
     "output_type": "display_data"
    },
    {
     "name": "stdout",
     "output_type": "stream",
     "text": [
      "True: bird\n",
      "Predicted: cat\n"
     ]
    },
    {
     "data": {
      "image/png": "[encoded data removed]",
      "text/plain": [
       "<Figure size 432x288 with 1 Axes>"
      ]
     },
     "metadata": {},
     "output_type": "display_data"
    },
    {
     "name": "stdout",
     "output_type": "stream",
     "text": [
      "True: bird\n",
      "Predicted: cat\n"
     ]
    },
    {
     "data": {
      "image/png": "[encoded data removed]",
      "text/plain": [
       "<Figure size 432x288 with 1 Axes>"
      ]
     },
     "metadata": {},
     "output_type": "display_data"
    },
    {
     "name": "stdout",
     "output_type": "stream",
     "text": [
      "True: bird\n",
      "Predicted: bird\n"
     ]
    }
   ],
   "source": [
    "model = models[1] # ResNet\n",
    "\n",
    "# Rebuild attacked img \n",
    "attacked_img, img_id = rebuild_attack(untargeted_results, 10, 1)\n",
    "\n",
    "# Show results of image predictions \n",
    "prob = model.predict_one(attacked_img)\n",
    "helper.plot_image(attacked_img)\n",
    "print(f'True: {class_names[test[1][img_id][0]]}')\n",
    "print(f'Predicted: {class_names[np.argmax(prob)]}')\n",
    "\n",
    "attacked_img, img_id = rebuild_attack(untargeted_results, 10, 3)\n",
    "\n",
    "prob = model.predict_one(attacked_img)\n",
    "helper.plot_image(attacked_img)\n",
    "print(f'True: {class_names[test[1][img_id][0]]}')\n",
    "print(f'Predicted: {class_names[np.argmax(prob)]}')\n",
    "\n",
    "attacked_img, img_id = rebuild_attack(untargeted_results, 10, 5)\n",
    "\n",
    "prob = model.predict_one(attacked_img)\n",
    "helper.plot_image(attacked_img)\n",
    "print(f'True: {class_names[test[1][img_id][0]]}')\n",
    "print(f'Predicted: {class_names[np.argmax(prob)]}')\n",
    "\n",
    "prob = model.predict_one(test[0][img_id])\n",
    "helper.plot_image(test[0][img_id])\n",
    "print(f'True: {class_names[test[1][img_id][0]]}')\n",
    "print(f'Predicted: {class_names[np.argmax(prob)]}')"
   ]
  },
  {
   "cell_type": "markdown",
   "metadata": {},
   "source": [
    "# Live Hacking\n",
    "\n",
    "這裡我們構築一個 Attacker，並以 Lenet 為目標，我們可以選擇不同的照片，指定或不指定誤導的目標。透過 Attacker 建構一個可以欺騙模型的照片。"
   ]
  },
  {
   "cell_type": "code",
   "execution_count": 10,
   "metadata": {},
   "outputs": [
    {
     "name": "stdout",
     "output_type": "stream",
     "text": [
      "Evaluating lenet\n"
     ]
    }
   ],
   "source": [
    "# Build attacker\n",
    "attacker = PixelAttacker(models[:1], test, class_names)"
   ]
  },
  {
   "cell_type": "code",
   "execution_count": 11,
   "metadata": {},
   "outputs": [
    {
     "data": {
      "image/png": "[encoded data removed]",
      "text/plain": [
       "<Figure size 432x288 with 1 Axes>"
      ]
     },
     "metadata": {},
     "output_type": "display_data"
    },
    {
     "data": {
      "image/png": "[encoded data removed]",
      "text/plain": [
       "<Figure size 432x288 with 1 Axes>"
      ]
     },
     "metadata": {},
     "output_type": "display_data"
    },
    {
     "data": {
      "image/png": "[encoded data removed]",
      "text/plain": [
       "<Figure size 432x288 with 1 Axes>"
      ]
     },
     "metadata": {},
     "output_type": "display_data"
    }
   ],
   "source": [
    "img_id = 3\n",
    "target = None\n",
    "\n",
    "# Attack Lenet\n",
    "result = attacker.attack(img_id, models[0], target, pixel_count=5,  plot=True)\n",
    "result = attacker.attack(img_id, models[0], target, pixel_count=3,  plot=True)\n",
    "result = attacker.attack(img_id, models[0], target, pixel_count=1,  plot=True)"
   ]
  },
  {
   "cell_type": "code",
   "execution_count": null,
   "metadata": {},
   "outputs": [],
   "source": []
  }
 ],
 "metadata": {
  "kernelspec": {
   "display_name": "one-pixel-attack-keras",
   "language": "python",
   "name": "one-pixel-attack-keras"
  },
  "language_info": {
   "codemirror_mode": {
    "name": "ipython",
    "version": 3
   },
   "file_extension": ".py",
   "mimetype": "text/x-python",
   "name": "python",
   "nbconvert_exporter": "python",
   "pygments_lexer": "ipython3",
   "version": "3.6.10"
  }
 },
 "nbformat": 4,
 "nbformat_minor": 2
}

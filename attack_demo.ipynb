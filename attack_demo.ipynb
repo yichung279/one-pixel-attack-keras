{
 "cells": [
  {
   "cell_type": "code",
   "execution_count": null,
   "metadata": {},
   "outputs": [
    {
     "name": "stdout",
     "output_type": "stream",
     "text": [
      "WARNING:tensorflow:From /home/yichung/.venv/one-pixel-attack-keras/lib/python3.6/site-packages/keras/backend/tensorflow_backend.py:422: The name tf.global_variables is deprecated. Please use tf.compat.v1.global_variables instead.\n",
      "\n",
      "Successfully loaded resnet\n",
      "Evaluating resnet\n"
     ]
    }
   ],
   "source": [
    "%matplotlib inline\n",
    "import pickle\n",
    "import numpy as np\n",
    "import pandas as pd\n",
    "import matplotlib\n",
    "from keras.datasets import cifar10\n",
    "from keras import backend as K\n",
    "\n",
    "from networks.resnet import ResNet\n",
    "\n",
    "import helper\n",
    "from attack import PixelAttacker\n",
    "\n",
    "_, test = cifar10.load_data()\n",
    "class_names = ['airplane', 'automobile', 'bird', 'cat', 'deer', 'dog', 'frog', 'horse', 'ship', 'truck']\n",
    "models =  [ResNet(load_weights=True)]\n",
    "\n",
    "attacker = PixelAttacker(models, test, class_names)\n",
    "\n",
    "img_id = 102\n",
    "target=None\n",
    "pixel_count=5\n",
    "attacker.attack(img_id, models[0], target, pixel_count)"
   ]
  },
  {
   "cell_type": "code",
   "execution_count": null,
   "metadata": {},
   "outputs": [],
   "source": []
  }
 ],
 "metadata": {
  "kernelspec": {
   "display_name": "one-pixel-attack-keras",
   "language": "python",
   "name": "one-pixel-attack-keras"
  },
  "language_info": {
   "codemirror_mode": {
    "name": "ipython",
    "version": 3
   },
   "file_extension": ".py",
   "mimetype": "text/x-python",
   "name": "python",
   "nbconvert_exporter": "python",
   "pygments_lexer": "ipython3",
   "version": "3.6.10"
  }
 },
 "nbformat": 4,
 "nbformat_minor": 2
}
